{
  "nbformat": 4,
  "nbformat_minor": 0,
  "metadata": {
    "colab": {
      "provenance": []
    },
    "kernelspec": {
      "name": "python3",
      "display_name": "Python 3"
    },
    "language_info": {
      "name": "python"
    }
  },
  "cells": [
    {
      "cell_type": "code",
      "execution_count": 47,
      "metadata": {
        "id": "JaQ2zWzqu9AY"
      },
      "outputs": [],
      "source": [
        "import pandas as pd\n",
        "import numpy as np\n",
        "import matplotlib.pyplot as plt\n",
        "import seaborn as sns\n",
        "\n",
        "from sklearn.model_selection import train_test_split, GridSearchCV\n",
        "from sklearn.metrics import accuracy_score, confusion_matrix\n",
        "\n",
        "from sklearn.compose import ColumnTransformer\n",
        "from sklearn.pipeline import Pipeline\n",
        "from sklearn.preprocessing import LabelEncoder, OneHotEncoder, MinMaxScaler\n",
        "\n",
        "from sklearn.neighbors import KNeighborsClassifier\n",
        "from sklearn.linear_model import LogisticRegression\n",
        "from sklearn.tree import DecisionTreeClassifier\n",
        "from sklearn.ensemble import RandomForestClassifier\n",
        "from sklearn.svm import SVC\n",
        "\n",
        "\n",
        "from scipy.stats import chi2_contingency, mannwhitneyu\n",
        "\n",
        "import pickle"
      ]
    },
    {
      "cell_type": "code",
      "source": [
        "data_path = \"/content/diabetes_risk.csv\"\n",
        "data = pd.read_csv(data_path)\n",
        "data.head().T"
      ],
      "metadata": {
        "id": "wbj3viWEvEry"
      },
      "execution_count": null,
      "outputs": []
    },
    {
      "cell_type": "markdown",
      "source": [
        "|index|0|1|2|3|4|\n",
        "|---|---|---|---|---|---|\n",
        "|Age|40|58|41|45|60|\n",
        "|Gender|Male|Male|Male|Male|Male|\n",
        "|Polyuria|No|No|Yes|No|Yes|\n",
        "|Polydipsia|Yes|No|No|No|Yes|\n",
        "|sudden weight loss|No|No|No|Yes|Yes|\n",
        "|weakness|Yes|Yes|Yes|Yes|Yes|\n",
        "|Polyphagia|No|No|Yes|Yes|Yes|\n",
        "|Genital thrush|No|No|No|Yes|No|\n",
        "|visual blurring|No|Yes|No|No|Yes|\n",
        "|Itching|Yes|No|Yes|Yes|Yes|\n",
        "|Irritability|No|No|No|No|Yes|\n",
        "|delayed healing|Yes|No|Yes|Yes|Yes|\n",
        "|partial paresis|No|Yes|No|No|Yes|\n",
        "|muscle stiffness|Yes|No|Yes|No|Yes|\n",
        "|Alopecia|Yes|Yes|Yes|No|Yes|\n",
        "|Obesity|Yes|No|No|No|Yes|\n",
        "|class|Positive|Positive|Positive|Positive|Positive|"
      ],
      "metadata": {
        "id": "6dAcAjddvPdF"
      }
    },
    {
      "cell_type": "code",
      "source": [
        "#  0   Age                 518 non-null    float64\n",
        "#  1   Gender              520 non-null    object\n",
        "#  2   Polyuria            520 non-null    object\n",
        "#  3   Polydipsia          520 non-null    object\n",
        "#  4   sudden weight loss  520 non-null    object\n",
        "#  5   weakness            520 non-null    object\n",
        "#  6   Polyphagia          520 non-null    object\n",
        "#  7   Genital thrush      520 non-null    object\n",
        "#  8   visual blurring     519 non-null    object\n",
        "#  9   Itching             520 non-null    object\n",
        "#  10  Irritability        519 non-null    object\n",
        "#  11  delayed healing     520 non-null    object\n",
        "#  12  partial paresis     520 non-null    object\n",
        "#  13  muscle stiffness    520 non-null    object\n",
        "#  14  Alopecia            520 non-null    object\n",
        "#  15  Obesity             520 non-null    object\n",
        "#  16  class               519 non-null    object"
      ],
      "metadata": {
        "id": "N6V1y5Y-wDXZ"
      },
      "execution_count": null,
      "outputs": []
    },
    {
      "cell_type": "code",
      "source": [
        "data_columns = list(data.columns)\n",
        "cat_columns = data.select_dtypes(\"object\").columns\n",
        "numeric_columns = data.select_dtypes(exclude=\"object\").columns"
      ],
      "metadata": {
        "id": "QSEmfTeIwbp6"
      },
      "execution_count": 12,
      "outputs": []
    },
    {
      "cell_type": "code",
      "source": [
        "data[\"Age\"].fillna(np.mean(data[\"Age\"]), inplace=True)\n",
        "data[\"visual blurring\"].fillna(data[\"visual blurring\"].mode()[0], inplace=True)\n",
        "data[\"Irritability\"].fillna(data[\"Irritability\"].mode()[0], inplace=True)\n",
        "\n",
        "data.dropna(inplace=True)"
      ],
      "metadata": {
        "id": "81nPBGfyweTz"
      },
      "execution_count": 22,
      "outputs": []
    },
    {
      "cell_type": "code",
      "source": [
        "#  0   Age                 519 non-null    float64\n",
        "#  1   Gender              519 non-null    object\n",
        "#  2   Polyuria            519 non-null    object\n",
        "#  3   Polydipsia          519 non-null    object\n",
        "#  4   sudden weight loss  519 non-null    object\n",
        "#  5   weakness            519 non-null    object\n",
        "#  6   Polyphagia          519 non-null    object\n",
        "#  7   Genital thrush      519 non-null    object\n",
        "#  8   visual blurring     519 non-null    object\n",
        "#  9   Itching             519 non-null    object\n",
        "#  10  Irritability        519 non-null    object\n",
        "#  11  delayed healing     519 non-null    object\n",
        "#  12  partial paresis     519 non-null    object\n",
        "#  13  muscle stiffness    519 non-null    object\n",
        "#  14  Alopecia            519 non-null    object\n",
        "#  15  Obesity             519 non-null    object\n",
        "#  16  class               519 non-null    object"
      ],
      "metadata": {
        "id": "FpoOBinZwuf4"
      },
      "execution_count": null,
      "outputs": []
    },
    {
      "cell_type": "code",
      "source": [
        "for col in cat_columns:\n",
        "    print(col)\n",
        "    print(data[col].value_counts())\n",
        "    print(\"*\"*50)"
      ],
      "metadata": {
        "colab": {
          "base_uri": "https://localhost:8080/"
        },
        "id": "Q3oGKWDkwK3B",
        "outputId": "5b2f32cd-ce97-4c0b-d083-20e07f6bf73c"
      },
      "execution_count": 11,
      "outputs": [
        {
          "output_type": "stream",
          "name": "stdout",
          "text": [
            "Gender\n",
            "Male      328\n",
            "Female    192\n",
            "Name: Gender, dtype: int64\n",
            "**************************************************\n",
            "Polyuria\n",
            "No     262\n",
            "Yes    258\n",
            "Name: Polyuria, dtype: int64\n",
            "**************************************************\n",
            "Polydipsia\n",
            "No     287\n",
            "Yes    233\n",
            "Name: Polydipsia, dtype: int64\n",
            "**************************************************\n",
            "sudden weight loss\n",
            "No      302\n",
            "Yes     216\n",
            "Yes&      1\n",
            "          1\n",
            "Name: sudden weight loss, dtype: int64\n",
            "**************************************************\n",
            "weakness\n",
            "Yes    305\n",
            "No     215\n",
            "Name: weakness, dtype: int64\n",
            "**************************************************\n",
            "Polyphagia\n",
            "No     283\n",
            "Yes    237\n",
            "Name: Polyphagia, dtype: int64\n",
            "**************************************************\n",
            "Genital thrush\n",
            "No     404\n",
            "Yes    116\n",
            "Name: Genital thrush, dtype: int64\n",
            "**************************************************\n",
            "visual blurring\n",
            "No     287\n",
            "Yes    232\n",
            "Name: visual blurring, dtype: int64\n",
            "**************************************************\n",
            "Itching\n",
            "No     267\n",
            "Yes    253\n",
            "Name: Itching, dtype: int64\n",
            "**************************************************\n",
            "Irritability\n",
            "No     393\n",
            "Yes    126\n",
            "Name: Irritability, dtype: int64\n",
            "**************************************************\n",
            "delayed healing\n",
            "No     281\n",
            "Yes    239\n",
            "Name: delayed healing, dtype: int64\n",
            "**************************************************\n",
            "partial paresis\n",
            "No     296\n",
            "Yes    224\n",
            "Name: partial paresis, dtype: int64\n",
            "**************************************************\n",
            "muscle stiffness\n",
            "No     325\n",
            "Yes    195\n",
            "Name: muscle stiffness, dtype: int64\n",
            "**************************************************\n",
            "Alopecia\n",
            "No     341\n",
            "Yes    179\n",
            "Name: Alopecia, dtype: int64\n",
            "**************************************************\n",
            "Obesity\n",
            "No     432\n",
            "Yes     88\n",
            "Name: Obesity, dtype: int64\n",
            "**************************************************\n",
            "class\n",
            "Positive    319\n",
            "Negative    200\n",
            "Name: class, dtype: int64\n",
            "**************************************************\n"
          ]
        }
      ]
    },
    {
      "cell_type": "code",
      "source": [
        "data = data[data[\"sudden weight loss\"].isin([\"Yes\", \"No\"])]"
      ],
      "metadata": {
        "id": "0VdUahSuxgqo"
      },
      "execution_count": 30,
      "outputs": []
    },
    {
      "cell_type": "code",
      "source": [
        "data_to_plot = data[\"class\"].value_counts()\n",
        "iraqidata_c = ['#6B52A6','#3F1B61'][::-1]\n",
        "\n",
        "fig, ax = plt.subplots(1, 2, figsize=(15,5))\n",
        "\n",
        "ax[0].barh(y=data_to_plot.index, width=data_to_plot.values, color=iraqidata_c)\n",
        "ax[0].set_xlabel(\"Frequency\")\n",
        "ax[0].set_yticks([\"Negative\", \"Positive\"], [\"Non-Diabetic\", \"Diabetic\"])\n",
        "ax[0].grid(alpha=0.3)\n",
        "\n",
        "\n",
        "for index, values in enumerate(data_to_plot):\n",
        "    ax[0].text(values+2, index, str(values), va=\"center\")\n",
        "\n",
        "ax[1].pie(data_to_plot, labels=[\"Diabetic\", \"Non-Diabetic\"], colors=iraqidata_c, explode=[0.05, 0.05], autopct=\"%.2f%%\")\n",
        "\n",
        "fig.suptitle(\"Diabetic vs Non-Diabetic\", fontsize=15)\n",
        "plt.tight_layout(pad=1)\n",
        "plt.show()"
      ],
      "metadata": {
        "colab": {
          "base_uri": "https://localhost:8080/",
          "height": 429
        },
        "id": "A1CHos8XvTOB",
        "outputId": "6d066494-7a34-4743-c61e-d3e36cfc1404"
      },
      "execution_count": 32,
      "outputs": [
        {
          "output_type": "display_data",
          "data": {
            "text/plain": [
              "<Figure size 1500x500 with 2 Axes>"
            ],
            "image/png": "[encoded data removed]"
          },
          "metadata": {}
        }
      ]
    },
    {
      "cell_type": "code",
      "source": [
        "significant_columns = []\n",
        "\n",
        "for column in cat_columns:\n",
        "\n",
        "    contingency_table = pd.crosstab(data[column], data['class'])\n",
        "    chi2, p_value, _, _ = chi2_contingency(contingency_table)\n",
        "    if p_value < 0.05:significant_columns.append(column)\n",
        "\n",
        "print(\"Significant columns:\", significant_columns)"
      ],
      "metadata": {
        "colab": {
          "base_uri": "https://localhost:8080/"
        },
        "id": "umtdIfhqvX5s",
        "outputId": "bf74fdd0-9560-47ed-8049-f4cf53cdaaa5"
      },
      "execution_count": 33,
      "outputs": [
        {
          "output_type": "stream",
          "name": "stdout",
          "text": [
            "Significant columns: ['Gender', 'Polyuria', 'Polydipsia', 'sudden weight loss', 'weakness', 'Polyphagia', 'Genital thrush', 'visual blurring', 'Irritability', 'partial paresis', 'muscle stiffness', 'Alopecia', 'class']\n"
          ]
        }
      ]
    },
    {
      "cell_type": "code",
      "source": [
        "u_stat, p_value_age = mannwhitneyu(data[data['class'] == \"Negative\"]['Age'], data[data['class'] == \"Positive\"]['Age'])\n",
        "\n",
        "if p_value_age < 0.05:\n",
        "    print(\"توجد فروق ذات دلالة إحصائية\")\n",
        "    significant_columns.append(\"Age\")"
      ],
      "metadata": {
        "colab": {
          "base_uri": "https://localhost:8080/"
        },
        "id": "xtBj97iXvoSF",
        "outputId": "f4102fc1-89d6-4c12-e5de-50cf83c8b66c"
      },
      "execution_count": 35,
      "outputs": [
        {
          "output_type": "stream",
          "name": "stdout",
          "text": [
            "توجد فروق ذات دلالة إحصائية\n"
          ]
        }
      ]
    },
    {
      "cell_type": "code",
      "source": [
        "data = data[significant_columns]\n",
        "data.head().T"
      ],
      "metadata": {
        "id": "rFzE1AcjyRVt"
      },
      "execution_count": null,
      "outputs": []
    },
    {
      "cell_type": "markdown",
      "source": [
        "|index|0|1|2|3|4|\n",
        "|---|---|---|---|---|---|\n",
        "|Gender|Male|Male|Male|Male|Male|\n",
        "|Polyuria|No|No|Yes|No|Yes|\n",
        "|Polydipsia|Yes|No|No|No|Yes|\n",
        "|sudden weight loss|No|No|No|Yes|Yes|\n",
        "|weakness|Yes|Yes|Yes|Yes|Yes|\n",
        "|Polyphagia|No|No|Yes|Yes|Yes|\n",
        "|Genital thrush|No|No|No|Yes|No|\n",
        "|visual blurring|No|Yes|No|No|Yes|\n",
        "|Irritability|No|No|No|No|Yes|\n",
        "|partial paresis|No|Yes|No|No|Yes|\n",
        "|muscle stiffness|Yes|No|Yes|No|Yes|\n",
        "|Alopecia|Yes|Yes|Yes|No|Yes|\n",
        "|class|Positive|Positive|Positive|Positive|Positive|\n",
        "|Age|40|58|41|45|60|"
      ],
      "metadata": {
        "id": "iffIZe3dyYHh"
      }
    },
    {
      "cell_type": "code",
      "source": [
        "lb = LabelEncoder()\n",
        "data[\"class\"] = lb.fit_transform(data[\"class\"])"
      ],
      "metadata": {
        "id": "Iw-nWIMnyU1Z"
      },
      "execution_count": 38,
      "outputs": []
    },
    {
      "cell_type": "code",
      "source": [
        "data_columns = list(data.columns)\n",
        "cat_columns = data.select_dtypes(\"object\").columns\n",
        "numeric_columns = data.select_dtypes(exclude=\"object\").columns"
      ],
      "metadata": {
        "id": "40fbw7_uydxS"
      },
      "execution_count": 39,
      "outputs": []
    },
    {
      "cell_type": "code",
      "source": [
        "X = data.drop(\"class\", axis=1)\n",
        "y = data[\"class\"]\n",
        "\n",
        "X_train, X_test, y_train, y_test = train_test_split(X, y, test_size=.2, random_state=42)"
      ],
      "metadata": {
        "id": "ZpGAD1vyyf4v"
      },
      "execution_count": 40,
      "outputs": []
    },
    {
      "cell_type": "code",
      "source": [
        "preprocessor = ColumnTransformer(\n",
        "    [(\"cat\", OneHotEncoder(drop=\"first\"), cat_columns)],\n",
        "    remainder='passthrough'\n",
        ")\n",
        "\n",
        "pipeline = Pipeline(\n",
        "    [\n",
        "        (\"cats\", preprocessor),\n",
        "        (\"scaler\", MinMaxScaler())\n",
        "    ]\n",
        ")\n",
        "\n",
        "X_train = pipeline.fit_transform(X_train)\n",
        "X_test = pipeline.transform(X_test)"
      ],
      "metadata": {
        "id": "gpNFvVhkyiVv"
      },
      "execution_count": 41,
      "outputs": []
    },
    {
      "cell_type": "code",
      "source": [
        "knn = KNeighborsClassifier()\n",
        "knn.fit(X_train, y_train)\n",
        "\n",
        "print(knn.score(X_train, y_train), knn.score(X_test, y_test))"
      ],
      "metadata": {
        "colab": {
          "base_uri": "https://localhost:8080/"
        },
        "id": "k7XFNwmtymPm",
        "outputId": "1ec3c9f4-a3d9-4815-a5c1-e7dd39e8166c"
      },
      "execution_count": 43,
      "outputs": [
        {
          "output_type": "stream",
          "name": "stdout",
          "text": [
            "0.9588377723970944 0.9326923076923077\n"
          ]
        }
      ]
    },
    {
      "cell_type": "code",
      "source": [
        "param_grid = {'n_neighbors': [1,3,5,7,9]}\n",
        "\n",
        "grid_search = GridSearchCV(knn, param_grid, cv=5, scoring='accuracy')\n",
        "grid_search.fit(X_train, y_train)\n",
        "\n",
        "print(\"Best Hyperparameters:\", grid_search.best_params_)\n",
        "\n",
        "best_knn = grid_search.best_estimator_\n",
        "\n",
        "y_pred = best_knn.predict(X_test)\n",
        "\n",
        "accuracy = accuracy_score(y_test, y_pred)\n",
        "print(f\"Accuracy on Test Set: {accuracy}\")"
      ],
      "metadata": {
        "colab": {
          "base_uri": "https://localhost:8080/"
        },
        "id": "7z_dO22UypWD",
        "outputId": "ca70c757-be8a-43cc-da19-fea937c2eb13"
      },
      "execution_count": 44,
      "outputs": [
        {
          "output_type": "stream",
          "name": "stdout",
          "text": [
            "Best Hyperparameters: {'n_neighbors': 1}\n",
            "Accuracy on Test Set: 0.9807692307692307\n"
          ]
        }
      ]
    },
    {
      "cell_type": "code",
      "source": [
        "\n",
        "\n",
        "# Logistic Regression\n",
        "logreg = LogisticRegression()\n",
        "logreg.fit(X_train, y_train)\n",
        "y_pred_logreg = logreg.predict(X_test)\n",
        "accuracy_logreg = accuracy_score(y_test, y_pred_logreg)\n",
        "print(f\"Logistic Regression Accuracy: {accuracy_logreg}\")\n",
        "\n",
        "# Decision Tree\n",
        "dt = DecisionTreeClassifier()\n",
        "dt.fit(X_train, y_train)\n",
        "y_pred_dt = dt.predict(X_test)\n",
        "accuracy_dt = accuracy_score(y_test, y_pred_dt)\n",
        "print(f\"Decision Tree Accuracy: {accuracy_dt}\")\n",
        "\n",
        "# Random Forest\n",
        "rf = RandomForestClassifier()\n",
        "rf.fit(X_train, y_train)\n",
        "y_pred_rf = rf.predict(X_test)\n",
        "accuracy_rf = accuracy_score(y_test, y_pred_rf)\n",
        "print(f\"Random Forest Accuracy: {accuracy_rf}\")\n",
        "\n",
        "# Support Vector Machine (SVM)\n",
        "svm = SVC()\n",
        "svm.fit(X_train, y_train)\n",
        "y_pred_svm = svm.predict(X_test)\n",
        "accuracy_svm = accuracy_score(y_test, y_pred_svm)\n",
        "print(f\"SVM Accuracy: {accuracy_svm}\")"
      ],
      "metadata": {
        "colab": {
          "base_uri": "https://localhost:8080/"
        },
        "id": "DqPjnX2Yy8QK",
        "outputId": "40d9f7eb-6f9f-4a18-d44f-ce1bf13fe9c3"
      },
      "execution_count": 45,
      "outputs": [
        {
          "output_type": "stream",
          "name": "stdout",
          "text": [
            "Logistic Regression Accuracy: 0.9230769230769231\n",
            "Decision Tree Accuracy: 0.9134615384615384\n",
            "Random Forest Accuracy: 0.9903846153846154\n",
            "SVM Accuracy: 0.9903846153846154\n"
          ]
        }
      ]
    },
    {
      "cell_type": "code",
      "source": [
        "with open('rf_model.pkl', 'wb') as file_:\n",
        "    pickle.dump(rf, file_)\n",
        "\n",
        "with open('svm_model.pkl', 'wb') as file_:\n",
        "    pickle.dump(svm, file_)"
      ],
      "metadata": {
        "id": "k4EoeV6dzL3-"
      },
      "execution_count": 48,
      "outputs": []
    },
    {
      "cell_type": "code",
      "source": [
        "with open(\"rf_model.pkl\", \"rb\") as our_model:\n",
        "    our_model = pickle.load(our_model)\n",
        "    for i in range(4):\n",
        "        random_sample = random.randint(1, 104)\n",
        "        print(f\"Actual: {y_test.reset_index().drop('index', axis=1).iloc[random_sample][0]}\")\n",
        "        print(f\"Predicted: {our_model.predict(X_test[random_sample].reshape(1, -1))[0]}\")\n",
        "        print(\"-\"*10)"
      ],
      "metadata": {
        "colab": {
          "base_uri": "https://localhost:8080/"
        },
        "id": "Ewsc1PwnzunP",
        "outputId": "f42af3b4-24b7-407a-c4fb-cbc56930ed60"
      },
      "execution_count": 87,
      "outputs": [
        {
          "output_type": "stream",
          "name": "stdout",
          "text": [
            "Actual: 0\n",
            "Predicted: 0\n",
            "----------\n",
            "Actual: 1\n",
            "Predicted: 1\n",
            "----------\n",
            "Actual: 1\n",
            "Predicted: 1\n",
            "----------\n",
            "Actual: 1\n",
            "Predicted: 1\n",
            "----------\n"
          ]
        }
      ]
    }
  ]
}